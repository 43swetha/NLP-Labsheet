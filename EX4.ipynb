{
 "cells": [
  {
   "cell_type": "markdown",
   "metadata": {},
   "source": [
    "# EXERCISE-4: Find Top-N similar documents"
   ]
  },
  {
   "cell_type": "code",
   "execution_count": null,
   "metadata": {},
   "outputs": [],
   "source": [
    "Name:Swetha.K\n",
    "Roll No:235229143"
   ]
  },
  {
   "cell_type": "code",
   "execution_count": 3,
   "metadata": {},
   "outputs": [
    {
     "name": "stdout",
     "output_type": "stream",
     "text": [
      "The cosine similarity scores between the third document and all other documents are: [0.30052403 0.31088779 1.         0.26669083 0.25518622]\n",
      "The most similar document to the third document is document 3.\n",
      "The top-2 similar documents to the third document are documents 2 and 3.\n"
     ]
    }
   ],
   "source": [
    "from sklearn.feature_extraction.text import TfidfVectorizer\n",
    "from sklearn.metrics.pairwise import cosine_similarity\n",
    "\n",
    "# Define the corpus\n",
    "corpus = [\n",
    "    \"the house had a tiny little mouse\",\n",
    "    \"the cat saw the mouse\",\n",
    "    \"the mouse ran away from the house\",\n",
    "    \"the cat finally ate the mouse\",\n",
    "    \"the end of the mouse story\"\n",
    "]\n",
    "\n",
    "# Define the vectorizer\n",
    "vectorizer = TfidfVectorizer()\n",
    "\n",
    "# Fit the vectorizer on the corpus\n",
    "X = vectorizer.fit_transform(corpus)\n",
    "\n",
    "# Compute the cosine similarity between the third document and all other documents\n",
    "similarity_scores = cosine_similarity(X[2], X)\n",
    "\n",
    "# Print the cosine similarity scores\n",
    "print(f\"The cosine similarity scores between the third document and all other documents are: {similarity_scores[0]}\")\n",
    "\n",
    "# Find the most similar document\n",
    "most_similar_doc = similarity_scores.argmax()\n",
    "print(f\"The most similar document to the third document is document {most_similar_doc + 1}.\")\n",
    "\n",
    "# Find the top-2 similar documents\n",
    "top_2_similar_docs = similarity_scores.argsort()[0][-2:]\n",
    "print(f\"The top-2 similar documents to the third document are documents {top_2_similar_docs[0] + 1} and {top_2_similar_docs[1] + 1}.\")\n",
    "\n"
   ]
  },
  {
   "cell_type": "code",
   "execution_count": null,
   "metadata": {},
   "outputs": [],
   "source": []
  }
 ],
 "metadata": {
  "kernelspec": {
   "display_name": "Python 3",
   "language": "python",
   "name": "python3"
  },
  "language_info": {
   "codemirror_mode": {
    "name": "ipython",
    "version": 3
   },
   "file_extension": ".py",
   "mimetype": "text/x-python",
   "name": "python",
   "nbconvert_exporter": "python",
   "pygments_lexer": "ipython3",
   "version": "3.7.1"
  }
 },
 "nbformat": 4,
 "nbformat_minor": 2
}
