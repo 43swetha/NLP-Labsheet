{
 "cells": [
  {
   "cell_type": "markdown",
   "metadata": {},
   "source": [
    "# EXERCISE-3: Compute Cosine Similarity between 2 Documents"
   ]
  },
  {
   "cell_type": "code",
   "execution_count": null,
   "metadata": {},
   "outputs": [],
   "source": [
    "Name:Swetha.K\n",
    "Roll No:235229143"
   ]
  },
  {
   "cell_type": "code",
   "execution_count": 1,
   "metadata": {},
   "outputs": [
    {
     "name": "stdout",
     "output_type": "stream",
     "text": [
      "The cosine similarity score between the first and second documents is 0.6.\n",
      "The cosine similarity scores between the first document and all other documents are [1.   0.6  0.31 1.  ].\n",
      "The cosine similarity score between the first document and the query 'I like this good movie' is 0.38.\n"
     ]
    }
   ],
   "source": [
    "from sklearn.metrics.pairwise import linear_kernel\n",
    "import numpy as np\n",
    "from sklearn.feature_extraction.text import TfidfVectorizer\n",
    "\n",
    "# Define your corpus\n",
    "corpus = [\n",
    "    \"This is the first document.\",\n",
    "    \"This is the second document.\",\n",
    "    \"And this is the third one.\",\n",
    "    \"Is this the first document?\",\n",
    "]\n",
    "\n",
    "# Define the vectorizer with new values of min_df and ngram_range\n",
    "vectorizer = TfidfVectorizer(min_df=1, ngram_range=(1, 1))\n",
    "\n",
    "# Fit the vectorizer on the corpus\n",
    "features = vectorizer.fit_transform(corpus)\n",
    "\n",
    "# cosine score between 1st and 2nd doc\n",
    "doc1 = features[0:1]\n",
    "doc2 = features[1:2]\n",
    "score = linear_kernel(doc1, doc2)\n",
    "print(f\"The cosine similarity score between the first and second documents is {np.round(score[0][0], 2)}.\")\n",
    "\n",
    "# cosine score between 1st and all other docs\n",
    "scores = linear_kernel(doc1, features)\n",
    "print(f\"The cosine similarity scores between the first document and all other documents are {np.round(scores[0], 2)}.\")\n",
    "\n",
    "# Cosine Similarity for a new doc\n",
    "query = \"I like this good movie\"\n",
    "qfeature = vectorizer.transform([query])\n",
    "scores2 = linear_kernel(doc1, qfeature)\n",
    "print(f\"The cosine similarity score between the first document and the query '{query}' is {np.round(scores2[0][0], 2)}.\")"
   ]
  },
  {
   "cell_type": "code",
   "execution_count": null,
   "metadata": {},
   "outputs": [],
   "source": []
  }
 ],
 "metadata": {
  "kernelspec": {
   "display_name": "Python 3",
   "language": "python",
   "name": "python3"
  },
  "language_info": {
   "codemirror_mode": {
    "name": "ipython",
    "version": 3
   },
   "file_extension": ".py",
   "mimetype": "text/x-python",
   "name": "python",
   "nbconvert_exporter": "python",
   "pygments_lexer": "ipython3",
   "version": "3.7.1"
  }
 },
 "nbformat": 4,
 "nbformat_minor": 2
}
